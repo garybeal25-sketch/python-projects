{
  "nbformat": 4,
  "nbformat_minor": 0,
  "metadata": {
    "colab": {
      "provenance": [],
      "authorship_tag": "ABX9TyMqFkCH8W2/4MQPrcS/Plpc",
      "include_colab_link": true
    },
    "kernelspec": {
      "name": "python3",
      "display_name": "Python 3"
    },
    "language_info": {
      "name": "python"
    }
  },
  "cells": [
    {
      "cell_type": "markdown",
      "metadata": {
        "id": "view-in-github",
        "colab_type": "text"
      },
      "source": [
        "<a href=\"https://colab.research.google.com/github/garybeal25-sketch/python-projects/blob/main/number_guessing_game_ipynb_.ipynb\" target=\"_parent\"><img src=\"https://colab.research.google.com/assets/colab-badge.svg\" alt=\"Open In Colab\"/></a>"
      ]
    },
    {
      "cell_type": "code",
      "execution_count": 1,
      "metadata": {
        "colab": {
          "base_uri": "https://localhost:8080/"
        },
        "id": "Wl7srD3vv7MJ",
        "outputId": "9ec4196a-0eae-4053-860e-8c2b0ce8fe0f"
      },
      "outputs": [
        {
          "output_type": "stream",
          "name": "stdout",
          "text": [
            "🎲 Welcome to the Number Guessing Game! 🎲\n",
            "Guess a number between 1 and 100: 55\n",
            "Too high! Try again.\n",
            "Guess a number between 1 and 100: 23\n",
            "Too high! Try again.\n",
            "Guess a number between 1 and 100: 1\n",
            "Too low! Try again.\n",
            "Guess a number between 1 and 100: 7\n",
            "Too low! Try again.\n",
            "Guess a number between 1 and 100: 11\n",
            "Too low! Try again.\n",
            "Guess a number between 1 and 100: 15\n",
            "Too low! Try again.\n",
            "Guess a number between 1 and 100: 18\n",
            "Too low! Try again.\n",
            "Guess a number between 1 and 100: 19\n",
            "Too low! Try again.\n",
            "Guess a number between 1 and 100: 20\n",
            "Too low! Try again.\n",
            "Guess a number between 1 and 100: 21\n",
            "🎉 Correct! The number was 21.\n",
            "You guessed it in 10 attempts.\n"
          ]
        }
      ],
      "source": [
        "import random\n",
        "\n",
        "print(\"🎲 Welcome to the Number Guessing Game! 🎲\")\n",
        "\n",
        "# Generate a random number between 1 and 100\n",
        "secret_number = random.randint(1, 100)\n",
        "\n",
        "# Keep track of attempts\n",
        "attempts = 0\n",
        "guess = 0\n",
        "\n",
        "# Loop until the user guesses correctly\n",
        "while guess != secret_number:\n",
        "    guess = int(input(\"Guess a number between 1 and 100: \"))\n",
        "    attempts += 1\n",
        "\n",
        "    if guess < secret_number:\n",
        "        print(\"Too low! Try again.\")\n",
        "    elif guess > secret_number:\n",
        "        print(\"Too high! Try again.\")\n",
        "    else:\n",
        "        print(f\"🎉 Correct! The number was {secret_number}.\")\n",
        "        print(f\"You guessed it in {attempts} attempts.\")"
      ]
    }
  ]
}
