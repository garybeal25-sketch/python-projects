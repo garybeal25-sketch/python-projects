{
  "nbformat": 4,
  "nbformat_minor": 0,
  "metadata": {
    "colab": {
      "provenance": [],
      "authorship_tag": "ABX9TyPNfXVJnlquYmOnXHQC1k3G",
      "include_colab_link": true
    },
    "kernelspec": {
      "name": "python3",
      "display_name": "Python 3"
    },
    "language_info": {
      "name": "python"
    }
  },
  "cells": [
    {
      "cell_type": "markdown",
      "metadata": {
        "id": "view-in-github",
        "colab_type": "text"
      },
      "source": [
        "<a href=\"https://colab.research.google.com/github/garybeal25-sketch/python-projects/blob/main/number_guessing_game.ipynb\" target=\"_parent\"><img src=\"https://colab.research.google.com/assets/colab-badge.svg\" alt=\"Open In Colab\"/></a>"
      ]
    },
    {
      "cell_type": "code",
      "execution_count": 5,
      "metadata": {
        "colab": {
          "base_uri": "https://localhost:8080/"
        },
        "id": "JF7AAqtdQh5t",
        "outputId": "1d795420-6d41-401b-df54-cd43adb392d9"
      },
      "outputs": [
        {
          "output_type": "stream",
          "name": "stdout",
          "text": [
            "Number to guess (for testing purposes): 10\n",
            "\n",
            "You guessed: 2\n",
            "⬆ Too low!\n",
            "\n",
            "You guessed: 5\n",
            "⬆ Too low!\n",
            "\n",
            "You guessed: 7\n",
            "⬆ Too low!\n",
            "\n",
            "You guessed: 3\n",
            "⬆ Too low!\n",
            "\n",
            "You guessed: 8\n",
            "⬆ Too low!\n",
            "\n",
            "Game over! The number was 10\n"
          ]
        }
      ],
      "source": [
        "import random\n",
        "\n",
        "# Generate a random number between 1 and 10\n",
        "number_to_guess = random.randint(1, 10)\n",
        "\n",
        "# Example guesses (you can change these each run)\n",
        "guesses = [2, 5, 7, 3, 8]\n",
        "\n",
        "print(f\"Number to guess (for testing purposes): {number_to_guess}\\n\")\n",
        "\n",
        "# Game loop\n",
        "for guess in guesses:\n",
        "    print(f\"You guessed: {guess}\")\n",
        "\n",
        "    if guess == number_to_guess:\n",
        "        print(\"🎉 You guessed correctly!\\n\")\n",
        "        break\n",
        "    elif guess < number_to_guess:\n",
        "        print(\"⬆ Too low!\\n\")\n",
        "    else:\n",
        "        print(\"⬇ Too high!\\n\")\n",
        "else:\n",
        "    print(f\"Game over! The number was {number_to_guess}\")\n"
      ]
    }
  ]
}