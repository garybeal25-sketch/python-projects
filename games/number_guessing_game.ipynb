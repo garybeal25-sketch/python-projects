import random

# Generate a random number between 1 and 10
number_to_guess = random.randint(1, 10)

# Example guesses (you can change these each run)
guesses = [2, 5, 7, 3, 8]  

print(f"Number to guess (for testing purposes): {number_to_guess}\n")

# Game loop
for guess in guesses:
    print(f"You guessed: {guess}")
    
    if guess == number_to_guess:
        print("🎉 You guessed correctly!\n")
        break
    elif guess < number_to_guess:
        print("⬆ Too low!\n")
    else:
        print("⬇ Too high!\n")
else:
    print(f"Game over! The number was {number_to_guess}")

